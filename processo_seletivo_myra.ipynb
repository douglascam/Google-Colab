{
  "nbformat": 4,
  "nbformat_minor": 0,
  "metadata": {
    "colab": {
      "name": "processo_seletivo_myra.ipynb",
      "provenance": [],
      "collapsed_sections": [],
      "mount_file_id": "https://github.com/douglascam/Google-Colab/blob/main/processo_seletivo_myra.ipynb",
      "authorship_tag": "ABX9TyO4M7f+cXu2BwVM2dQktx+/",
      "include_colab_link": true
    },
    "kernelspec": {
      "name": "python3",
      "display_name": "Python 3"
    },
    "language_info": {
      "name": "python"
    }
  },
  "cells": [
    {
      "cell_type": "markdown",
      "metadata": {
        "id": "view-in-github",
        "colab_type": "text"
      },
      "source": [
        "<a href=\"https://colab.research.google.com/github/douglascam/Google-Colab/blob/main/processo_seletivo_myra.ipynb\" target=\"_parent\"><img src=\"https://colab.research.google.com/assets/colab-badge.svg\" alt=\"Open In Colab\"/></a>"
      ]
    },
    {
      "cell_type": "markdown",
      "source": [
        "# Instalação das Bibliotecas"
      ],
      "metadata": {
        "id": "BYrrcdsvB8B8"
      }
    },
    {
      "cell_type": "code",
      "source": [
        "!pip install pyspark"
      ],
      "metadata": {
        "colab": {
          "base_uri": "https://localhost:8080/"
        },
        "id": "SlnX7_6tCEPt",
        "outputId": "798d75dc-6936-438c-ccf8-ca129ca12320"
      },
      "execution_count": 3,
      "outputs": [
        {
          "output_type": "stream",
          "name": "stdout",
          "text": [
            "Collecting pyspark\n",
            "  Downloading pyspark-3.2.1.tar.gz (281.4 MB)\n",
            "\u001b[K     |████████████████████████████████| 281.4 MB 33 kB/s \n",
            "\u001b[?25hCollecting py4j==0.10.9.3\n",
            "  Downloading py4j-0.10.9.3-py2.py3-none-any.whl (198 kB)\n",
            "\u001b[K     |████████████████████████████████| 198 kB 16.5 MB/s \n",
            "\u001b[?25hBuilding wheels for collected packages: pyspark\n",
            "  Building wheel for pyspark (setup.py) ... \u001b[?25l\u001b[?25hdone\n",
            "  Created wheel for pyspark: filename=pyspark-3.2.1-py2.py3-none-any.whl size=281853642 sha256=f7b7d1e6209d6a0e6634ee3c697ced5da4e3ae2605ebe1722fc7ae25949e3e5d\n",
            "  Stored in directory: /root/.cache/pip/wheels/9f/f5/07/7cd8017084dce4e93e84e92efd1e1d5334db05f2e83bcef74f\n",
            "Successfully built pyspark\n",
            "Installing collected packages: py4j, pyspark\n",
            "Successfully installed py4j-0.10.9.3 pyspark-3.2.1\n"
          ]
        }
      ]
    },
    {
      "cell_type": "markdown",
      "source": [
        "# Import das Dependências"
      ],
      "metadata": {
        "id": "Yb2YXkOWBNXJ"
      }
    },
    {
      "cell_type": "code",
      "source": [
        "import pyspark\n",
        "import pandas\n",
        "from pyspark.sql import SparkSession\n",
        "from pyspark.sql import DataFrame\n",
        "from pyspark.sql import functions as F\n",
        "from pyspark import SparkContext,SQLContext,SparkFiles\n",
        "from zipfile import ZipFile\n",
        "from pyspark.sql.functions import *\n",
        "import matplotlib.pyplot as  plt\n",
        "spark = SparkSession.builder.getOrCreate()\n",
        "sc = spark.sparkContext\n",
        "sql = SQLContext(sc)\n",
        "\n"
      ],
      "metadata": {
        "colab": {
          "base_uri": "https://localhost:8080/"
        },
        "id": "lOtz6nZDBc-w",
        "outputId": "cc04a7ec-78b9-403a-941c-a6c962247e49"
      },
      "execution_count": 12,
      "outputs": [
        {
          "output_type": "stream",
          "name": "stderr",
          "text": [
            "/usr/local/lib/python3.7/dist-packages/pyspark/sql/context.py:79: FutureWarning: Deprecated in 3.0.0. Use SparkSession.builder.getOrCreate() instead.\n",
            "  FutureWarning\n"
          ]
        }
      ]
    },
    {
      "cell_type": "markdown",
      "source": [
        "# Download dos arquivos"
      ],
      "metadata": {
        "id": "CUzjqeigMByt"
      }
    },
    {
      "cell_type": "code",
      "source": [
        "url1 = \"https://raw.githubusercontent.com/douglascam/Google-Colab/main/olist_orders_dataset.csv\"\n",
        "url2 = \"https://raw.githubusercontent.com/douglascam/Google-Colab/main/olist_order_reviews_dataset.csv\"\n",
        "url3 = \"https://raw.githubusercontent.com/douglascam/Google-Colab/main/olist_order_items_dataset.csv\"\n",
        "url4 = \"https://raw.githubusercontent.com/douglascam/Google-Colab/main/olist_products_dataset.csv\"\n",
        "sc.addFile(url1)\n",
        "sc.addFile(url2)\n",
        "sc.addFile(url3)\n",
        "sc.addFile(url4)"
      ],
      "metadata": {
        "id": "1S8a5CcWJSrR"
      },
      "execution_count": 13,
      "outputs": []
    },
    {
      "cell_type": "markdown",
      "source": [
        "# Gerar os respectivos dataframes dos arquivos baixados"
      ],
      "metadata": {
        "id": "AQnn3KIPDRuU"
      }
    },
    {
      "cell_type": "code",
      "source": [
        "\n",
        "olist_orders_dataset = spark.read.csv(SparkFiles.get(\"olist_orders_dataset.csv\"), header=True)\n",
        "olist_order_reviews_dataset = spark.read.csv(SparkFiles.get(\"olist_order_reviews_dataset.csv\"), header=True)\n",
        "olist_order_items_dataset = spark.read.csv(SparkFiles.get(\"olist_order_items_dataset.csv\"), header=True)\n",
        "olist_products_dataset = spark.read.csv(SparkFiles.get(\"olist_products_dataset.csv\"), header=True)\n",
        "\n",
        "display(olist_orders_dataset.head())\n",
        "display(olist_order_reviews_dataset.head())\n",
        "display(olist_order_items_dataset.head())\n",
        "display(olist_products_dataset.head())"
      ],
      "metadata": {
        "colab": {
          "base_uri": "https://localhost:8080/",
          "height": 106
        },
        "id": "VoT2dkGKDRTo",
        "outputId": "04b6157c-6140-4d58-bcd3-212787285459"
      },
      "execution_count": 18,
      "outputs": [
        {
          "output_type": "display_data",
          "data": {
            "text/plain": [
              "Row(order_id='e481f51cbdc54678b7cc49136f2d6af7', customer_id='9ef432eb6251297304e76186b10a928d', order_status='delivered', order_purchase_timestamp='2017-10-02 10:56:33', order_approved_at='2017-10-02 11:07:15', order_delivered_carrier_date='2017-10-04 19:55:00', order_delivered_customer_date='2017-10-10 21:25:13', order_estimated_delivery_date='2017-10-18 00:00:00')"
            ]
          },
          "metadata": {}
        },
        {
          "output_type": "display_data",
          "data": {
            "text/plain": [
              "Row(review_id='7bc2406110b926393aa56f80a40eba40', order_id='73fc7af87114b39712e6da79b0a377eb', review_score='4', review_comment_title=None, review_comment_message=None, review_creation_date='2018-01-18 00:00:00', review_answer_timestamp='2018-01-18 21:46:59')"
            ]
          },
          "metadata": {}
        },
        {
          "output_type": "display_data",
          "data": {
            "text/plain": [
              "Row(order_id='00010242fe8c5a6d1ba2dd792cb16214', order_item_id='1', product_id='4244733e06e7ecb4970a6e2683c13e61', seller_id='48436dade18ac8b2bce089ec2a041202', shipping_limit_date='2017-09-19 09:45:35', price='58.90', freight_value='13.29')"
            ]
          },
          "metadata": {}
        },
        {
          "output_type": "display_data",
          "data": {
            "text/plain": [
              "Row(product_id='1e9e8ef04dbcff4541ed26657ea517e5', product_category_name='perfumaria', product_name_lenght='40', product_description_lenght='287', product_photos_qty='1', product_weight_g='225', product_length_cm='16', product_height_cm='10', product_width_cm='14')"
            ]
          },
          "metadata": {}
        }
      ]
    },
    {
      "cell_type": "markdown",
      "source": [
        "# Contar a quantidade de linhas de cada um dos datasets acima"
      ],
      "metadata": {
        "id": "td5HsJwlHiXs"
      }
    },
    {
      "cell_type": "code",
      "source": [
        "display(olist_orders_dataset.count())\n",
        "display(olist_order_reviews_dataset.count())\n",
        "display(olist_order_items_dataset.count())\n",
        "display(olist_products_dataset.count())"
      ],
      "metadata": {
        "colab": {
          "base_uri": "https://localhost:8080/",
          "height": 86
        },
        "id": "0rIXfn5BHqc3",
        "outputId": "ce83eb0f-20b5-4d76-864e-f9b676162126"
      },
      "execution_count": 19,
      "outputs": [
        {
          "output_type": "display_data",
          "data": {
            "text/plain": [
              "99441"
            ]
          },
          "metadata": {}
        },
        {
          "output_type": "display_data",
          "data": {
            "text/plain": [
              "104162"
            ]
          },
          "metadata": {}
        },
        {
          "output_type": "display_data",
          "data": {
            "text/plain": [
              "112650"
            ]
          },
          "metadata": {}
        },
        {
          "output_type": "display_data",
          "data": {
            "text/plain": [
              "32951"
            ]
          },
          "metadata": {}
        }
      ]
    },
    {
      "cell_type": "markdown",
      "source": [
        "# Com base nos arquivos acima considere consolidá-los em um único dataframe (sem repetição de\n",
        "colunas). (JOINS)"
      ],
      "metadata": {
        "id": "Pvv7vtOPJv04"
      }
    },
    {
      "cell_type": "code",
      "source": [
        "DFConsolidado_order = olist_orders_dataset.join(olist_order_reviews_dataset,['order_id']) \n",
        "DFConsolidado_product = olist_order_items_dataset.join(olist_products_dataset,['product_id'])\n",
        "DFConsolidado_total = DFConsolidado_product.join(DFConsolidado_order,['order_id'])\n",
        "DFConsolidado_total.show()\n",
        "\n"
      ],
      "metadata": {
        "colab": {
          "base_uri": "https://localhost:8080/"
        },
        "id": "Fs46dfQJJy0t",
        "outputId": "6d1ad05e-82cb-46c6-c0ae-36ff05adced1"
      },
      "execution_count": 20,
      "outputs": [
        {
          "output_type": "stream",
          "name": "stdout",
          "text": [
            "+--------------------+--------------------+-------------+--------------------+-------------------+------+-------------+---------------------+-------------------+--------------------------+------------------+----------------+-----------------+-----------------+----------------+--------------------+------------+------------------------+-------------------+----------------------------+-----------------------------+-----------------------------+--------------------+------------+--------------------+----------------------+--------------------+-----------------------+\n",
            "|            order_id|          product_id|order_item_id|           seller_id|shipping_limit_date| price|freight_value|product_category_name|product_name_lenght|product_description_lenght|product_photos_qty|product_weight_g|product_length_cm|product_height_cm|product_width_cm|         customer_id|order_status|order_purchase_timestamp|  order_approved_at|order_delivered_carrier_date|order_delivered_customer_date|order_estimated_delivery_date|           review_id|review_score|review_comment_title|review_comment_message|review_creation_date|review_answer_timestamp|\n",
            "+--------------------+--------------------+-------------+--------------------+-------------------+------+-------------+---------------------+-------------------+--------------------------+------------------+----------------+-----------------+-----------------+----------------+--------------------+------------+------------------------+-------------------+----------------------------+-----------------------------+-----------------------------+--------------------+------------+--------------------+----------------------+--------------------+-----------------------+\n",
            "|00018f77f2f0320c5...|e5f2d52b802189ee6...|            1|dd7ddc04e1b6c2c61...|2017-05-03 11:05:13|239.90|        19.93|             pet_shop|                 56|                       239|                 2|           30000|               50|               30|              40|f6dd3ec061db4e398...|   delivered|     2017-04-26 10:53:06|2017-04-26 11:05:13|         2017-05-04 14:35:00|          2017-05-12 16:04:24|          2017-05-15 00:00:00|7b07bacd811c4117b...|           4|                null|                  null| 2017-05-13 00:00:00|    2017-05-15 11:34:13|\n",
            "|000229ec398224ef6...|c777355d18b72b67a...|            1|5b51032eddd242adc...|2018-01-18 14:48:30|199.00|        17.87|     moveis_decoracao|                 59|                       695|                 2|            3050|               33|               13|              33|6489ae5e4333f3693...|   delivered|     2018-01-14 14:33:31|2018-01-14 14:48:30|         2018-01-16 12:36:48|          2018-01-22 13:19:16|          2018-02-05 00:00:00|0c5b33dea94867d1a...|           5|                null|  Chegou antes do p...| 2018-01-23 00:00:00|    2018-01-23 16:06:31|\n",
            "|00024acbcdf0a6daa...|7634da152a4610f15...|            1|9d7a1d34a50524090...|2018-08-15 10:10:18| 12.99|        12.79|           perfumaria|                 42|                       480|                 1|             200|               16|               10|              15|d4eb9395c8c0431ee...|   delivered|     2018-08-08 10:00:35|2018-08-08 10:10:18|         2018-08-10 13:28:00|          2018-08-14 13:32:39|          2018-08-20 00:00:00|f4028d019cb585648...|           4|                null|                  null| 2018-08-15 00:00:00|    2018-08-15 16:39:01|\n",
            "|00042b26cf59d7ce6...|ac6c3623068f30de0...|            1|df560393f3a51e745...|2017-02-13 13:57:51|199.90|        18.14|   ferramentas_jardim|                 59|                       409|                 1|            3750|               35|               40|              30|58dbd0b2d70206bf4...|   delivered|     2017-02-04 13:57:51|2017-02-04 14:10:13|         2017-02-16 09:46:09|          2017-03-01 16:42:31|          2017-03-17 00:00:00|940144190dcba6351...|           5|                null|  Gostei pois veio ...| 2017-03-02 00:00:00|    2017-03-03 10:54:59|\n",
            "|00054e8431b9d7675...|8d4f2bb7e93e6710a...|            1|7040e82f899a04d1b...|2017-12-14 12:10:31| 19.90|        11.85|            telefonia|                 52|                       815|                 1|             200|               27|                5|              20|32e2e6ab09e778d99...|   delivered|     2017-12-10 11:53:48|2017-12-10 12:10:31|         2017-12-12 01:07:48|          2017-12-18 22:03:38|          2018-01-04 00:00:00|0381de7572d99d752...|           4|                null|                  null| 2017-12-19 00:00:00|    2017-12-29 02:40:12|\n",
            "|0005a1a1728c9d785...|310ae3c140ff94b03...|            1|a416b6a846a117243...|2018-03-26 18:31:29|145.95|        11.65|         beleza_saude|                 59|                       493|                 1|            2000|               30|               12|              16|16150771dfd477626...|   delivered|     2018-03-19 18:40:33|2018-03-20 18:35:21|         2018-03-28 00:37:42|          2018-03-29 18:17:31|          2018-03-29 00:00:00|67b1ab8f3ec19d5a9...|           1|                null|  Na descrição do p...|                null|                   null|\n",
            "|0005f50442cb953dc...|4535b0e1091c278df...|            1|ba143b05f0110f0dc...|2018-07-06 14:10:56| 53.99|        11.40|      livros_tecnicos|                 52|                      1192|                 1|             850|               29|                3|              21|351d3cb2cee3c7fd0...|   delivered|     2018-07-02 13:59:39|2018-07-02 14:10:56|         2018-07-03 14:25:00|          2018-07-04 17:28:31|          2018-07-23 00:00:00|5c0b7e34ed85ec659...|           4|                null|                  null| 2018-07-05 00:00:00|    2018-07-05 23:17:04|\n",
            "|00063b381e2406b52...|f177554ea93259a5b...|            1|8602a61d680a10a82...|2018-07-31 17:30:39| 45.00|        12.98| fashion_bolsas_e_...|                 35|                        60|                 1|             200|               16|               16|              11|6a899e55865de6549...|   delivered|     2018-07-27 17:21:27|2018-07-27 18:00:06|         2018-07-30 14:52:00|          2018-08-07 13:56:52|          2018-08-07 00:00:00|5595c192e3c1566ab...|           5|                null|  Fiquei um pouco t...| 2018-08-08 00:00:00|    2018-08-09 00:12:30|\n",
            "|0006ec9db01a64e59...|99a4788cb24856965...|            1|4a3ca9315b744ce9f...|2018-07-26 17:24:20| 74.00|        23.32|      cama_mesa_banho|                 54|                       245|                 1|            1383|               50|               10|              40|5d178120c29c61748...|   delivered|     2018-07-24 17:04:17|2018-07-24 17:24:20|         2018-07-25 11:02:00|          2018-07-31 01:04:15|          2018-08-22 00:00:00|6322c405c0f34bf3a...|           5|                 Boa|  Excelente serviço...| 2018-07-31 00:00:00|    2018-08-01 23:05:10|\n",
            "|0008288aa423d2a3f...|368c6c730842d7801...|            1|1f50f920176fa81da...|2018-02-21 02:55:52| 49.90|        13.37|   ferramentas_jardim|                 57|                       366|                 2|            1650|               30|               22|              30|2355af7c75e7c98b4...|   delivered|     2018-02-13 22:10:21|2018-02-15 03:55:52|         2018-02-20 18:23:28|          2018-02-26 13:55:22|          2018-03-06 00:00:00|5505c1cce299b1e0b...|           5|                null|                  null| 2018-02-27 00:00:00|    2018-03-02 10:20:40|\n",
            "|0008288aa423d2a3f...|368c6c730842d7801...|            2|1f50f920176fa81da...|2018-02-21 02:55:52| 49.90|        13.37|   ferramentas_jardim|                 57|                       366|                 2|            1650|               30|               22|              30|2355af7c75e7c98b4...|   delivered|     2018-02-13 22:10:21|2018-02-15 03:55:52|         2018-02-20 18:23:28|          2018-02-26 13:55:22|          2018-03-06 00:00:00|5505c1cce299b1e0b...|           5|                null|                  null| 2018-02-27 00:00:00|    2018-03-02 10:20:40|\n",
            "|0009792311464db53...|8cab8abac59158715...|            1|530ec6109d11eaaf8...|2018-08-17 12:15:10| 99.90|        27.65|        esporte_lazer|                 56|                      1392|                 4|            1050|               40|               20|              30|2a30c97668e81df7c...|   delivered|     2018-08-14 20:43:09|2018-08-15 12:15:10|         2018-08-15 15:28:00|          2018-08-22 12:02:27|          2018-08-28 00:00:00|236ccf78a5c4c350c...|           5|                null|                  null| 2018-08-23 00:00:00|    2018-08-23 16:11:56|\n",
            "|000aed2e25dbad2f9...|4fa33915031a8cde0...|            1|fe2032dab1a61af87...|2018-05-16 20:57:03|144.00|         8.77|           perfumaria|                 43|                       116|                 1|             468|               23|               18|              19|fff5169e583fd07fa...|   delivered|     2018-05-11 20:33:38|2018-05-11 20:57:03|         2018-05-16 14:26:00|          2018-05-18 16:46:31|          2018-05-22 00:00:00|00800678dcf28b0ea...|           1|produto não entregue|  Mudo minha opiniã...|                null|                   null|\n",
            "|000c3e6612759851c...|b50c950aba0dcead2...|            1|218d46b86c1881d02...|2017-08-21 03:33:13| 99.00|        13.71|        esporte_lazer|                 58|                      2584|                 1|            1800|               16|               16|              16|3773bcf1a6fbd2923...|   delivered|     2017-08-12 10:08:57|2017-08-15 03:35:32|         2017-08-15 15:32:51|          2017-08-19 15:22:17|          2017-09-01 00:00:00|51b9186876d4708a9...|           5|                null|  Recebi td certinh...| 2017-08-20 00:00:00|    2017-08-20 19:56:31|\n",
            "|000e906b789b55f64...|57d79905de06d8897...|            1|ea8482cd71df3c196...|2017-11-27 19:09:02| 21.99|        11.85|            telefonia|                 59|                       540|                 4|             300|               17|                4|              12|6a3b2fc9f270df258...|   delivered|     2017-11-21 18:54:23|2017-11-21 19:09:02|         2017-11-22 20:46:54|          2017-12-09 17:27:23|          2017-12-07 00:00:00|a5fb93d6a9e707bd8...|           3|                null|                  null| 2017-12-09 00:00:00|    2017-12-11 09:55:13|\n",
            "|000f25f4d72195062...|1c05e0964302b6cf6...|            1|7c67e1448b00f6e96...|2018-03-21 11:10:11|119.99|        44.40|    moveis_escritorio|                 46|                      1159|                 1|            9375|               55|               54|              19|86ade8ebc14f18dd6...|   delivered|     2018-03-07 10:33:13|2018-03-07 11:10:11|         2018-03-16 15:58:31|          2018-03-22 16:51:52|          2018-04-11 00:00:00|775038877f3c50777...|           4|                null|                  null| 2018-03-23 00:00:00|    2018-03-24 04:17:06|\n",
            "|0011d82c4b53e22e8...|c389f712c4b4510bc...|            1|bfd27a966d91cfaaf...|2018-01-29 21:51:25|289.00|        26.33|     malas_acessorios|                 41|                       500|                 1|            2965|               41|               27|              34|2013d892495e1a101...|   delivered|     2018-01-16 21:43:23|2018-01-16 21:51:25|         2018-01-23 22:08:06|          2018-01-26 22:14:02|          2018-02-15 00:00:00|04a15fdeccc0572ca...|           4|                null|                  null| 2018-01-27 00:00:00|    2018-01-28 13:18:49|\n",
            "|0014ae671de39511f...|23365beed316535b4...|            1|92eb0f42c21942b65...|2017-05-29 03:15:24| 16.50|        14.10|            telefonia|                 56|                       351|                 1|             350|               19|                4|              11|41065d9dcea52218c...|   delivered|     2017-05-22 13:49:03|2017-05-23 03:15:24|         2017-05-29 09:04:02|          2017-06-07 13:52:52|          2017-06-13 00:00:00|81c4070474d420a77...|           5|                null|                  null| 2017-06-08 00:00:00|    2017-06-09 14:25:13|\n",
            "|0015ebb40fb17286b...|50fd2b788dc166edd...|            1|8b321bb669392f516...|2018-01-18 09:11:24| 21.90|        15.10|          eletronicos|                 46|                      2285|                 1|             150|               30|               10|              20|da43a556bf5c36a11...|   delivered|     2018-01-14 09:01:36|2018-01-14 09:11:24|         2018-01-17 22:56:36|          2018-02-01 20:29:51|          2018-02-15 00:00:00|282ec15daab81bd9a...|           5|                null|                  null| 2018-02-02 00:00:00|    2018-02-03 09:38:42|\n",
            "|001862358bf858722...|c6dd917a0be2a7045...|            1|7a67c85e85bb2ce85...|2018-02-13 19:10:37| 99.99|        13.72|           cool_stuff|                 54|                      1012|                 1|            1200|               42|               25|              15|2cf869dd40c98f296...|   delivered|     2018-02-06 19:11:57|2018-02-07 19:10:37|         2018-02-08 17:44:13|          2018-02-15 22:57:01|          2018-03-02 00:00:00|164fba09ca80765e4...|           5|                null|  Adorei, compro no...| 2018-02-16 00:00:00|    2018-02-20 14:11:32|\n",
            "+--------------------+--------------------+-------------+--------------------+-------------------+------+-------------+---------------------+-------------------+--------------------------+------------------+----------------+-----------------+-----------------+----------------+--------------------+------------+------------------------+-------------------+----------------------------+-----------------------------+-----------------------------+--------------------+------------+--------------------+----------------------+--------------------+-----------------------+\n",
            "only showing top 20 rows\n",
            "\n"
          ]
        }
      ]
    },
    {
      "cell_type": "markdown",
      "source": [
        "#Com base no novo dataset consolidado responda as perguntas abaixo:"
      ],
      "metadata": {
        "id": "UjrHg-ilY-Wg"
      }
    },
    {
      "cell_type": "markdown",
      "source": [
        "* Total de linhas"
      ],
      "metadata": {
        "id": "2upDFpGnZEjR"
      }
    },
    {
      "cell_type": "code",
      "source": [
        "display(DFConsolidado_total.count())"
      ],
      "metadata": {
        "colab": {
          "base_uri": "https://localhost:8080/",
          "height": 34
        },
        "id": "EgvgNF1lZIgi",
        "outputId": "7cd82559-6b7e-423b-b508-59cf9b90b6ef"
      },
      "execution_count": 21,
      "outputs": [
        {
          "output_type": "display_data",
          "data": {
            "text/plain": [
              "112372"
            ]
          },
          "metadata": {}
        }
      ]
    },
    {
      "cell_type": "markdown",
      "source": [
        "* Total de linhas por product_category_name"
      ],
      "metadata": {
        "id": "aovC50x2ZXt8"
      }
    },
    {
      "cell_type": "code",
      "source": [
        "DFConsolidado_total.groupBy('product_category_name').count().sort(desc(\"count\")).show(10)"
      ],
      "metadata": {
        "colab": {
          "base_uri": "https://localhost:8080/"
        },
        "id": "MqOhLGTGPqJt",
        "outputId": "d6f1a5b8-9bb9-4b21-ed54-b77396ec506a"
      },
      "execution_count": 22,
      "outputs": [
        {
          "output_type": "stream",
          "name": "stdout",
          "text": [
            "+---------------------+-----+\n",
            "|product_category_name|count|\n",
            "+---------------------+-----+\n",
            "|      cama_mesa_banho|11137|\n",
            "|         beleza_saude| 9645|\n",
            "|        esporte_lazer| 8640|\n",
            "|     moveis_decoracao| 8331|\n",
            "| informatica_acess...| 7849|\n",
            "| utilidades_domest...| 6943|\n",
            "|   relogios_presentes| 5950|\n",
            "|            telefonia| 4517|\n",
            "|   ferramentas_jardim| 4329|\n",
            "|           automotivo| 4213|\n",
            "+---------------------+-----+\n",
            "only showing top 10 rows\n",
            "\n"
          ]
        }
      ]
    },
    {
      "cell_type": "markdown",
      "source": [
        "# Remover todos os ids (colunas) do dataframe"
      ],
      "metadata": {
        "id": "tkvminFWfp7k"
      }
    },
    {
      "cell_type": "code",
      "source": [
        "DFConsolidado_total.drop(\"order_id\",\"product_id\",\"order_item_id\",\"seller_id\",\"customer_id\",\"review_id\").show()"
      ],
      "metadata": {
        "colab": {
          "base_uri": "https://localhost:8080/"
        },
        "id": "IA-BiQ_UfsKX",
        "outputId": "c3b5bd91-b81d-4f48-b70a-99f21301b89f"
      },
      "execution_count": 23,
      "outputs": [
        {
          "output_type": "stream",
          "name": "stdout",
          "text": [
            "+-------------------+------+-------------+---------------------+-------------------+--------------------------+------------------+----------------+-----------------+-----------------+----------------+------------+------------------------+-------------------+----------------------------+-----------------------------+-----------------------------+------------+--------------------+----------------------+--------------------+-----------------------+\n",
            "|shipping_limit_date| price|freight_value|product_category_name|product_name_lenght|product_description_lenght|product_photos_qty|product_weight_g|product_length_cm|product_height_cm|product_width_cm|order_status|order_purchase_timestamp|  order_approved_at|order_delivered_carrier_date|order_delivered_customer_date|order_estimated_delivery_date|review_score|review_comment_title|review_comment_message|review_creation_date|review_answer_timestamp|\n",
            "+-------------------+------+-------------+---------------------+-------------------+--------------------------+------------------+----------------+-----------------+-----------------+----------------+------------+------------------------+-------------------+----------------------------+-----------------------------+-----------------------------+------------+--------------------+----------------------+--------------------+-----------------------+\n",
            "|2017-05-03 11:05:13|239.90|        19.93|             pet_shop|                 56|                       239|                 2|           30000|               50|               30|              40|   delivered|     2017-04-26 10:53:06|2017-04-26 11:05:13|         2017-05-04 14:35:00|          2017-05-12 16:04:24|          2017-05-15 00:00:00|           4|                null|                  null| 2017-05-13 00:00:00|    2017-05-15 11:34:13|\n",
            "|2018-01-18 14:48:30|199.00|        17.87|     moveis_decoracao|                 59|                       695|                 2|            3050|               33|               13|              33|   delivered|     2018-01-14 14:33:31|2018-01-14 14:48:30|         2018-01-16 12:36:48|          2018-01-22 13:19:16|          2018-02-05 00:00:00|           5|                null|  Chegou antes do p...| 2018-01-23 00:00:00|    2018-01-23 16:06:31|\n",
            "|2018-08-15 10:10:18| 12.99|        12.79|           perfumaria|                 42|                       480|                 1|             200|               16|               10|              15|   delivered|     2018-08-08 10:00:35|2018-08-08 10:10:18|         2018-08-10 13:28:00|          2018-08-14 13:32:39|          2018-08-20 00:00:00|           4|                null|                  null| 2018-08-15 00:00:00|    2018-08-15 16:39:01|\n",
            "|2017-02-13 13:57:51|199.90|        18.14|   ferramentas_jardim|                 59|                       409|                 1|            3750|               35|               40|              30|   delivered|     2017-02-04 13:57:51|2017-02-04 14:10:13|         2017-02-16 09:46:09|          2017-03-01 16:42:31|          2017-03-17 00:00:00|           5|                null|  Gostei pois veio ...| 2017-03-02 00:00:00|    2017-03-03 10:54:59|\n",
            "|2017-12-14 12:10:31| 19.90|        11.85|            telefonia|                 52|                       815|                 1|             200|               27|                5|              20|   delivered|     2017-12-10 11:53:48|2017-12-10 12:10:31|         2017-12-12 01:07:48|          2017-12-18 22:03:38|          2018-01-04 00:00:00|           4|                null|                  null| 2017-12-19 00:00:00|    2017-12-29 02:40:12|\n",
            "|2018-03-26 18:31:29|145.95|        11.65|         beleza_saude|                 59|                       493|                 1|            2000|               30|               12|              16|   delivered|     2018-03-19 18:40:33|2018-03-20 18:35:21|         2018-03-28 00:37:42|          2018-03-29 18:17:31|          2018-03-29 00:00:00|           1|                null|  Na descrição do p...|                null|                   null|\n",
            "|2018-07-06 14:10:56| 53.99|        11.40|      livros_tecnicos|                 52|                      1192|                 1|             850|               29|                3|              21|   delivered|     2018-07-02 13:59:39|2018-07-02 14:10:56|         2018-07-03 14:25:00|          2018-07-04 17:28:31|          2018-07-23 00:00:00|           4|                null|                  null| 2018-07-05 00:00:00|    2018-07-05 23:17:04|\n",
            "|2018-07-31 17:30:39| 45.00|        12.98| fashion_bolsas_e_...|                 35|                        60|                 1|             200|               16|               16|              11|   delivered|     2018-07-27 17:21:27|2018-07-27 18:00:06|         2018-07-30 14:52:00|          2018-08-07 13:56:52|          2018-08-07 00:00:00|           5|                null|  Fiquei um pouco t...| 2018-08-08 00:00:00|    2018-08-09 00:12:30|\n",
            "|2018-07-26 17:24:20| 74.00|        23.32|      cama_mesa_banho|                 54|                       245|                 1|            1383|               50|               10|              40|   delivered|     2018-07-24 17:04:17|2018-07-24 17:24:20|         2018-07-25 11:02:00|          2018-07-31 01:04:15|          2018-08-22 00:00:00|           5|                 Boa|  Excelente serviço...| 2018-07-31 00:00:00|    2018-08-01 23:05:10|\n",
            "|2018-02-21 02:55:52| 49.90|        13.37|   ferramentas_jardim|                 57|                       366|                 2|            1650|               30|               22|              30|   delivered|     2018-02-13 22:10:21|2018-02-15 03:55:52|         2018-02-20 18:23:28|          2018-02-26 13:55:22|          2018-03-06 00:00:00|           5|                null|                  null| 2018-02-27 00:00:00|    2018-03-02 10:20:40|\n",
            "|2018-02-21 02:55:52| 49.90|        13.37|   ferramentas_jardim|                 57|                       366|                 2|            1650|               30|               22|              30|   delivered|     2018-02-13 22:10:21|2018-02-15 03:55:52|         2018-02-20 18:23:28|          2018-02-26 13:55:22|          2018-03-06 00:00:00|           5|                null|                  null| 2018-02-27 00:00:00|    2018-03-02 10:20:40|\n",
            "|2018-08-17 12:15:10| 99.90|        27.65|        esporte_lazer|                 56|                      1392|                 4|            1050|               40|               20|              30|   delivered|     2018-08-14 20:43:09|2018-08-15 12:15:10|         2018-08-15 15:28:00|          2018-08-22 12:02:27|          2018-08-28 00:00:00|           5|                null|                  null| 2018-08-23 00:00:00|    2018-08-23 16:11:56|\n",
            "|2018-05-16 20:57:03|144.00|         8.77|           perfumaria|                 43|                       116|                 1|             468|               23|               18|              19|   delivered|     2018-05-11 20:33:38|2018-05-11 20:57:03|         2018-05-16 14:26:00|          2018-05-18 16:46:31|          2018-05-22 00:00:00|           1|produto não entregue|  Mudo minha opiniã...|                null|                   null|\n",
            "|2017-08-21 03:33:13| 99.00|        13.71|        esporte_lazer|                 58|                      2584|                 1|            1800|               16|               16|              16|   delivered|     2017-08-12 10:08:57|2017-08-15 03:35:32|         2017-08-15 15:32:51|          2017-08-19 15:22:17|          2017-09-01 00:00:00|           5|                null|  Recebi td certinh...| 2017-08-20 00:00:00|    2017-08-20 19:56:31|\n",
            "|2017-11-27 19:09:02| 21.99|        11.85|            telefonia|                 59|                       540|                 4|             300|               17|                4|              12|   delivered|     2017-11-21 18:54:23|2017-11-21 19:09:02|         2017-11-22 20:46:54|          2017-12-09 17:27:23|          2017-12-07 00:00:00|           3|                null|                  null| 2017-12-09 00:00:00|    2017-12-11 09:55:13|\n",
            "|2018-03-21 11:10:11|119.99|        44.40|    moveis_escritorio|                 46|                      1159|                 1|            9375|               55|               54|              19|   delivered|     2018-03-07 10:33:13|2018-03-07 11:10:11|         2018-03-16 15:58:31|          2018-03-22 16:51:52|          2018-04-11 00:00:00|           4|                null|                  null| 2018-03-23 00:00:00|    2018-03-24 04:17:06|\n",
            "|2018-01-29 21:51:25|289.00|        26.33|     malas_acessorios|                 41|                       500|                 1|            2965|               41|               27|              34|   delivered|     2018-01-16 21:43:23|2018-01-16 21:51:25|         2018-01-23 22:08:06|          2018-01-26 22:14:02|          2018-02-15 00:00:00|           4|                null|                  null| 2018-01-27 00:00:00|    2018-01-28 13:18:49|\n",
            "|2017-05-29 03:15:24| 16.50|        14.10|            telefonia|                 56|                       351|                 1|             350|               19|                4|              11|   delivered|     2017-05-22 13:49:03|2017-05-23 03:15:24|         2017-05-29 09:04:02|          2017-06-07 13:52:52|          2017-06-13 00:00:00|           5|                null|                  null| 2017-06-08 00:00:00|    2017-06-09 14:25:13|\n",
            "|2018-01-18 09:11:24| 21.90|        15.10|          eletronicos|                 46|                      2285|                 1|             150|               30|               10|              20|   delivered|     2018-01-14 09:01:36|2018-01-14 09:11:24|         2018-01-17 22:56:36|          2018-02-01 20:29:51|          2018-02-15 00:00:00|           5|                null|                  null| 2018-02-02 00:00:00|    2018-02-03 09:38:42|\n",
            "|2018-02-13 19:10:37| 99.99|        13.72|           cool_stuff|                 54|                      1012|                 1|            1200|               42|               25|              15|   delivered|     2018-02-06 19:11:57|2018-02-07 19:10:37|         2018-02-08 17:44:13|          2018-02-15 22:57:01|          2018-03-02 00:00:00|           5|                null|  Adorei, compro no...| 2018-02-16 00:00:00|    2018-02-20 14:11:32|\n",
            "+-------------------+------+-------------+---------------------+-------------------+--------------------------+------------------+----------------+-----------------+-----------------+----------------+------------+------------------------+-------------------+----------------------------+-----------------------------+-----------------------------+------------+--------------------+----------------------+--------------------+-----------------------+\n",
            "only showing top 20 rows\n",
            "\n"
          ]
        }
      ]
    },
    {
      "cell_type": "markdown",
      "source": [
        "# Converter coluna review_creation_date para date (sem o tempo)"
      ],
      "metadata": {
        "id": "SpqrwZJkhapW"
      }
    },
    {
      "cell_type": "code",
      "source": [
        "DFConsolidado_total.withColumn(\"review_creation_date\",to_date(substring(DFConsolidado_total.review_creation_date,1,10),'yyyy-MM-dd')).show()"
      ],
      "metadata": {
        "colab": {
          "base_uri": "https://localhost:8080/"
        },
        "id": "Ec0TK53GheUD",
        "outputId": "c61c0222-ff6b-438e-a3b9-938d516ee350"
      },
      "execution_count": 24,
      "outputs": [
        {
          "output_type": "stream",
          "name": "stdout",
          "text": [
            "+--------------------+--------------------+-------------+--------------------+-------------------+------+-------------+---------------------+-------------------+--------------------------+------------------+----------------+-----------------+-----------------+----------------+--------------------+------------+------------------------+-------------------+----------------------------+-----------------------------+-----------------------------+--------------------+------------+--------------------+----------------------+--------------------+-----------------------+\n",
            "|            order_id|          product_id|order_item_id|           seller_id|shipping_limit_date| price|freight_value|product_category_name|product_name_lenght|product_description_lenght|product_photos_qty|product_weight_g|product_length_cm|product_height_cm|product_width_cm|         customer_id|order_status|order_purchase_timestamp|  order_approved_at|order_delivered_carrier_date|order_delivered_customer_date|order_estimated_delivery_date|           review_id|review_score|review_comment_title|review_comment_message|review_creation_date|review_answer_timestamp|\n",
            "+--------------------+--------------------+-------------+--------------------+-------------------+------+-------------+---------------------+-------------------+--------------------------+------------------+----------------+-----------------+-----------------+----------------+--------------------+------------+------------------------+-------------------+----------------------------+-----------------------------+-----------------------------+--------------------+------------+--------------------+----------------------+--------------------+-----------------------+\n",
            "|00018f77f2f0320c5...|e5f2d52b802189ee6...|            1|dd7ddc04e1b6c2c61...|2017-05-03 11:05:13|239.90|        19.93|             pet_shop|                 56|                       239|                 2|           30000|               50|               30|              40|f6dd3ec061db4e398...|   delivered|     2017-04-26 10:53:06|2017-04-26 11:05:13|         2017-05-04 14:35:00|          2017-05-12 16:04:24|          2017-05-15 00:00:00|7b07bacd811c4117b...|           4|                null|                  null|          2017-05-13|    2017-05-15 11:34:13|\n",
            "|000229ec398224ef6...|c777355d18b72b67a...|            1|5b51032eddd242adc...|2018-01-18 14:48:30|199.00|        17.87|     moveis_decoracao|                 59|                       695|                 2|            3050|               33|               13|              33|6489ae5e4333f3693...|   delivered|     2018-01-14 14:33:31|2018-01-14 14:48:30|         2018-01-16 12:36:48|          2018-01-22 13:19:16|          2018-02-05 00:00:00|0c5b33dea94867d1a...|           5|                null|  Chegou antes do p...|          2018-01-23|    2018-01-23 16:06:31|\n",
            "|00024acbcdf0a6daa...|7634da152a4610f15...|            1|9d7a1d34a50524090...|2018-08-15 10:10:18| 12.99|        12.79|           perfumaria|                 42|                       480|                 1|             200|               16|               10|              15|d4eb9395c8c0431ee...|   delivered|     2018-08-08 10:00:35|2018-08-08 10:10:18|         2018-08-10 13:28:00|          2018-08-14 13:32:39|          2018-08-20 00:00:00|f4028d019cb585648...|           4|                null|                  null|          2018-08-15|    2018-08-15 16:39:01|\n",
            "|00042b26cf59d7ce6...|ac6c3623068f30de0...|            1|df560393f3a51e745...|2017-02-13 13:57:51|199.90|        18.14|   ferramentas_jardim|                 59|                       409|                 1|            3750|               35|               40|              30|58dbd0b2d70206bf4...|   delivered|     2017-02-04 13:57:51|2017-02-04 14:10:13|         2017-02-16 09:46:09|          2017-03-01 16:42:31|          2017-03-17 00:00:00|940144190dcba6351...|           5|                null|  Gostei pois veio ...|          2017-03-02|    2017-03-03 10:54:59|\n",
            "|00054e8431b9d7675...|8d4f2bb7e93e6710a...|            1|7040e82f899a04d1b...|2017-12-14 12:10:31| 19.90|        11.85|            telefonia|                 52|                       815|                 1|             200|               27|                5|              20|32e2e6ab09e778d99...|   delivered|     2017-12-10 11:53:48|2017-12-10 12:10:31|         2017-12-12 01:07:48|          2017-12-18 22:03:38|          2018-01-04 00:00:00|0381de7572d99d752...|           4|                null|                  null|          2017-12-19|    2017-12-29 02:40:12|\n",
            "|0005a1a1728c9d785...|310ae3c140ff94b03...|            1|a416b6a846a117243...|2018-03-26 18:31:29|145.95|        11.65|         beleza_saude|                 59|                       493|                 1|            2000|               30|               12|              16|16150771dfd477626...|   delivered|     2018-03-19 18:40:33|2018-03-20 18:35:21|         2018-03-28 00:37:42|          2018-03-29 18:17:31|          2018-03-29 00:00:00|67b1ab8f3ec19d5a9...|           1|                null|  Na descrição do p...|                null|                   null|\n",
            "|0005f50442cb953dc...|4535b0e1091c278df...|            1|ba143b05f0110f0dc...|2018-07-06 14:10:56| 53.99|        11.40|      livros_tecnicos|                 52|                      1192|                 1|             850|               29|                3|              21|351d3cb2cee3c7fd0...|   delivered|     2018-07-02 13:59:39|2018-07-02 14:10:56|         2018-07-03 14:25:00|          2018-07-04 17:28:31|          2018-07-23 00:00:00|5c0b7e34ed85ec659...|           4|                null|                  null|          2018-07-05|    2018-07-05 23:17:04|\n",
            "|00063b381e2406b52...|f177554ea93259a5b...|            1|8602a61d680a10a82...|2018-07-31 17:30:39| 45.00|        12.98| fashion_bolsas_e_...|                 35|                        60|                 1|             200|               16|               16|              11|6a899e55865de6549...|   delivered|     2018-07-27 17:21:27|2018-07-27 18:00:06|         2018-07-30 14:52:00|          2018-08-07 13:56:52|          2018-08-07 00:00:00|5595c192e3c1566ab...|           5|                null|  Fiquei um pouco t...|          2018-08-08|    2018-08-09 00:12:30|\n",
            "|0006ec9db01a64e59...|99a4788cb24856965...|            1|4a3ca9315b744ce9f...|2018-07-26 17:24:20| 74.00|        23.32|      cama_mesa_banho|                 54|                       245|                 1|            1383|               50|               10|              40|5d178120c29c61748...|   delivered|     2018-07-24 17:04:17|2018-07-24 17:24:20|         2018-07-25 11:02:00|          2018-07-31 01:04:15|          2018-08-22 00:00:00|6322c405c0f34bf3a...|           5|                 Boa|  Excelente serviço...|          2018-07-31|    2018-08-01 23:05:10|\n",
            "|0008288aa423d2a3f...|368c6c730842d7801...|            1|1f50f920176fa81da...|2018-02-21 02:55:52| 49.90|        13.37|   ferramentas_jardim|                 57|                       366|                 2|            1650|               30|               22|              30|2355af7c75e7c98b4...|   delivered|     2018-02-13 22:10:21|2018-02-15 03:55:52|         2018-02-20 18:23:28|          2018-02-26 13:55:22|          2018-03-06 00:00:00|5505c1cce299b1e0b...|           5|                null|                  null|          2018-02-27|    2018-03-02 10:20:40|\n",
            "|0008288aa423d2a3f...|368c6c730842d7801...|            2|1f50f920176fa81da...|2018-02-21 02:55:52| 49.90|        13.37|   ferramentas_jardim|                 57|                       366|                 2|            1650|               30|               22|              30|2355af7c75e7c98b4...|   delivered|     2018-02-13 22:10:21|2018-02-15 03:55:52|         2018-02-20 18:23:28|          2018-02-26 13:55:22|          2018-03-06 00:00:00|5505c1cce299b1e0b...|           5|                null|                  null|          2018-02-27|    2018-03-02 10:20:40|\n",
            "|0009792311464db53...|8cab8abac59158715...|            1|530ec6109d11eaaf8...|2018-08-17 12:15:10| 99.90|        27.65|        esporte_lazer|                 56|                      1392|                 4|            1050|               40|               20|              30|2a30c97668e81df7c...|   delivered|     2018-08-14 20:43:09|2018-08-15 12:15:10|         2018-08-15 15:28:00|          2018-08-22 12:02:27|          2018-08-28 00:00:00|236ccf78a5c4c350c...|           5|                null|                  null|          2018-08-23|    2018-08-23 16:11:56|\n",
            "|000aed2e25dbad2f9...|4fa33915031a8cde0...|            1|fe2032dab1a61af87...|2018-05-16 20:57:03|144.00|         8.77|           perfumaria|                 43|                       116|                 1|             468|               23|               18|              19|fff5169e583fd07fa...|   delivered|     2018-05-11 20:33:38|2018-05-11 20:57:03|         2018-05-16 14:26:00|          2018-05-18 16:46:31|          2018-05-22 00:00:00|00800678dcf28b0ea...|           1|produto não entregue|  Mudo minha opiniã...|                null|                   null|\n",
            "|000c3e6612759851c...|b50c950aba0dcead2...|            1|218d46b86c1881d02...|2017-08-21 03:33:13| 99.00|        13.71|        esporte_lazer|                 58|                      2584|                 1|            1800|               16|               16|              16|3773bcf1a6fbd2923...|   delivered|     2017-08-12 10:08:57|2017-08-15 03:35:32|         2017-08-15 15:32:51|          2017-08-19 15:22:17|          2017-09-01 00:00:00|51b9186876d4708a9...|           5|                null|  Recebi td certinh...|          2017-08-20|    2017-08-20 19:56:31|\n",
            "|000e906b789b55f64...|57d79905de06d8897...|            1|ea8482cd71df3c196...|2017-11-27 19:09:02| 21.99|        11.85|            telefonia|                 59|                       540|                 4|             300|               17|                4|              12|6a3b2fc9f270df258...|   delivered|     2017-11-21 18:54:23|2017-11-21 19:09:02|         2017-11-22 20:46:54|          2017-12-09 17:27:23|          2017-12-07 00:00:00|a5fb93d6a9e707bd8...|           3|                null|                  null|          2017-12-09|    2017-12-11 09:55:13|\n",
            "|000f25f4d72195062...|1c05e0964302b6cf6...|            1|7c67e1448b00f6e96...|2018-03-21 11:10:11|119.99|        44.40|    moveis_escritorio|                 46|                      1159|                 1|            9375|               55|               54|              19|86ade8ebc14f18dd6...|   delivered|     2018-03-07 10:33:13|2018-03-07 11:10:11|         2018-03-16 15:58:31|          2018-03-22 16:51:52|          2018-04-11 00:00:00|775038877f3c50777...|           4|                null|                  null|          2018-03-23|    2018-03-24 04:17:06|\n",
            "|0011d82c4b53e22e8...|c389f712c4b4510bc...|            1|bfd27a966d91cfaaf...|2018-01-29 21:51:25|289.00|        26.33|     malas_acessorios|                 41|                       500|                 1|            2965|               41|               27|              34|2013d892495e1a101...|   delivered|     2018-01-16 21:43:23|2018-01-16 21:51:25|         2018-01-23 22:08:06|          2018-01-26 22:14:02|          2018-02-15 00:00:00|04a15fdeccc0572ca...|           4|                null|                  null|          2018-01-27|    2018-01-28 13:18:49|\n",
            "|0014ae671de39511f...|23365beed316535b4...|            1|92eb0f42c21942b65...|2017-05-29 03:15:24| 16.50|        14.10|            telefonia|                 56|                       351|                 1|             350|               19|                4|              11|41065d9dcea52218c...|   delivered|     2017-05-22 13:49:03|2017-05-23 03:15:24|         2017-05-29 09:04:02|          2017-06-07 13:52:52|          2017-06-13 00:00:00|81c4070474d420a77...|           5|                null|                  null|          2017-06-08|    2017-06-09 14:25:13|\n",
            "|0015ebb40fb17286b...|50fd2b788dc166edd...|            1|8b321bb669392f516...|2018-01-18 09:11:24| 21.90|        15.10|          eletronicos|                 46|                      2285|                 1|             150|               30|               10|              20|da43a556bf5c36a11...|   delivered|     2018-01-14 09:01:36|2018-01-14 09:11:24|         2018-01-17 22:56:36|          2018-02-01 20:29:51|          2018-02-15 00:00:00|282ec15daab81bd9a...|           5|                null|                  null|          2018-02-02|    2018-02-03 09:38:42|\n",
            "|001862358bf858722...|c6dd917a0be2a7045...|            1|7a67c85e85bb2ce85...|2018-02-13 19:10:37| 99.99|        13.72|           cool_stuff|                 54|                      1012|                 1|            1200|               42|               25|              15|2cf869dd40c98f296...|   delivered|     2018-02-06 19:11:57|2018-02-07 19:10:37|         2018-02-08 17:44:13|          2018-02-15 22:57:01|          2018-03-02 00:00:00|164fba09ca80765e4...|           5|                null|  Adorei, compro no...|          2018-02-16|    2018-02-20 14:11:32|\n",
            "+--------------------+--------------------+-------------+--------------------+-------------------+------+-------------+---------------------+-------------------+--------------------------+------------------+----------------+-----------------+-----------------+----------------+--------------------+------------+------------------------+-------------------+----------------------------+-----------------------------+-----------------------------+--------------------+------------+--------------------+----------------------+--------------------+-----------------------+\n",
            "only showing top 20 rows\n",
            "\n"
          ]
        }
      ]
    },
    {
      "cell_type": "markdown",
      "source": [
        "#Crie uma função para converter todo o texto para lower case (tudo minusculo)"
      ],
      "metadata": {
        "id": "aeUe88Nglebz"
      }
    },
    {
      "cell_type": "code",
      "source": [
        "@udf\n",
        "def lower_case(coluna):\n",
        "  if coluna is not None:\n",
        "    return coluna.lower()"
      ],
      "metadata": {
        "id": "RREKDrwYl5Ph"
      },
      "execution_count": 25,
      "outputs": []
    },
    {
      "cell_type": "markdown",
      "source": [
        "* Teste da função"
      ],
      "metadata": {
        "id": "jtJfE_7fm8va"
      }
    },
    {
      "cell_type": "code",
      "source": [
        "DFConsolidado_total.select(\"review_comment_message\",lower_case(\"review_comment_message\")).show()"
      ],
      "metadata": {
        "colab": {
          "base_uri": "https://localhost:8080/"
        },
        "id": "sHNbeaO-nCRi",
        "outputId": "8f81a10b-ae75-48b1-b766-7380b84c4757"
      },
      "execution_count": 26,
      "outputs": [
        {
          "output_type": "stream",
          "name": "stdout",
          "text": [
            "+----------------------+----------------------------------+\n",
            "|review_comment_message|lower_case(review_comment_message)|\n",
            "+----------------------+----------------------------------+\n",
            "|                  null|                              null|\n",
            "|       nada a declarar|                   nada a declarar|\n",
            "|  Ótima compra. Óti...|              ótima compra. óti...|\n",
            "|                  null|                              null|\n",
            "|                  null|                              null|\n",
            "|                  null|                              null|\n",
            "|             Excelente|                         excelente|\n",
            "|                  null|                              null|\n",
            "|  Entregas separada...|              entregas separada...|\n",
            "|                  null|                              null|\n",
            "|                  null|                              null|\n",
            "|                  null|                              null|\n",
            "|                  null|                              null|\n",
            "|                  null|                              null|\n",
            "|                  null|                              null|\n",
            "|  Chegou muito ante...|              chegou muito ante...|\n",
            "|  Até o momento não...|              até o momento não...|\n",
            "|                  null|                              null|\n",
            "|                  null|                              null|\n",
            "|                  null|                              null|\n",
            "+----------------------+----------------------------------+\n",
            "only showing top 20 rows\n",
            "\n"
          ]
        }
      ]
    },
    {
      "cell_type": "markdown",
      "source": [
        "# Crie uma função para procurar as palavras “Adorei, Eficiente, Confiável” no texto, contendo as mesmas crie uma coluna com a categorização “BOM”"
      ],
      "metadata": {
        "id": "TXIRawagnVWK"
      }
    },
    {
      "cell_type": "markdown",
      "source": [
        "* Como no arquivo de reviews possui poucos registros com as palavras chave solicitadas, adicionei outras opções de critica, para que os gráficos sejam mais detalhados."
      ],
      "metadata": {
        "id": "FBA94sfUvj6W"
      }
    },
    {
      "cell_type": "code",
      "source": [
        "@udf\n",
        "def find_review_positivo(coluna):\n",
        "  if coluna is not None  and 'Adorei' in coluna:\n",
        "     return (\"BOM\")\n",
        "  elif coluna is not None  and 'adorei' in coluna:\n",
        "     return (\"BOM\")\n",
        "  elif coluna is not None  and 'Eficiente' in coluna:\n",
        "     return (\"BOM\")\n",
        "  elif coluna is not None  and 'eficiente' in coluna:\n",
        "     return (\"BOM\")\n",
        "  elif coluna is not None  and 'Confiável' in coluna:\n",
        "     return (\"BOM\")\n",
        "  elif coluna is not None  and 'Confiavel' in coluna:\n",
        "     return (\"BOM\")\n",
        "  elif coluna is not None  and 'confiável' in coluna:\n",
        "     return (\"BOM\")    \n",
        "  elif coluna is not None  and 'confiavel' in coluna:\n",
        "     return (\"BOM\")\n",
        "  elif coluna is not None  and 'Bom' in coluna:\n",
        "     return (\"BOM\")   \n",
        "  elif coluna is not None  and 'bom' in coluna:\n",
        "     return (\"BOM\")   \n",
        "  elif coluna is not None  and 'Recomendo' in coluna:\n",
        "     return (\"BOM\")       \n",
        "  elif coluna is not None  and 'recomendo' in coluna:\n",
        "     return (\"BOM\")   \n",
        "  elif coluna is not None  and 'ok' in coluna:\n",
        "     return (\"BOM\")                \n",
        "  elif coluna is not None  and 'péssimos' in coluna:\n",
        "     return (\"Péssimo\")\n",
        "  elif coluna is not None  and 'Péssimos' in coluna:\n",
        "     return (\"Péssimo\")     \n",
        "  elif coluna is not None  and 'pessimos' in coluna:\n",
        "     return (\"Péssimo\")\n",
        "  elif coluna is not None  and 'Pessimos' in coluna:\n",
        "     return (\"Péssimo\")    \n",
        "  elif coluna is not None  and 'Não' in coluna:\n",
        "     return (\"Não entregue\")    \n",
        "  elif coluna is not None  and 'não' in coluna:\n",
        "     return (\"Não entregue\") \n",
        "  elif coluna is not None  and 'Nao' in coluna:\n",
        "     return (\"Não entregue\")  \n",
        "  elif coluna is not None  and 'nao' in coluna:\n",
        "     return (\"Não entregue\")                      \n",
        "  else:\n",
        "     return (\"Outros\")"
      ],
      "metadata": {
        "id": "uc9FRNREnjCt"
      },
      "execution_count": 28,
      "outputs": []
    },
    {
      "cell_type": "markdown",
      "source": [
        "* inserção de uma nova coluna contendo as críticas agrupadas"
      ],
      "metadata": {
        "id": "M0n3Clgyrho-"
      }
    },
    {
      "cell_type": "code",
      "source": [
        "DFConsolidado_total = DFConsolidado_total.withColumn('review_comment_message_criticado',find_review_positivo(\"review_comment_message\"))"
      ],
      "metadata": {
        "id": "cT5tU5tXrlU_"
      },
      "execution_count": 29,
      "outputs": []
    },
    {
      "cell_type": "markdown",
      "source": [
        "# Faça um count da nova categoria e veja quantas linhas tem a categoria bom e quantas linhas péssimo"
      ],
      "metadata": {
        "id": "TSOWH6hgw5nd"
      }
    },
    {
      "cell_type": "code",
      "source": [
        "DFConsolidado_total.groupBy('review_comment_message_criticado').count().sort(desc(\"count\")).show()"
      ],
      "metadata": {
        "colab": {
          "base_uri": "https://localhost:8080/"
        },
        "id": "BaCbpujo-674",
        "outputId": "fae437f2-7756-4831-a06f-34dec7c1166b"
      },
      "execution_count": 30,
      "outputs": [
        {
          "output_type": "stream",
          "name": "stdout",
          "text": [
            "+--------------------------------+-----+\n",
            "|review_comment_message_criticado|count|\n",
            "+--------------------------------+-----+\n",
            "|                          Outros|93173|\n",
            "|                             BOM|10006|\n",
            "|                    Não entregue| 9189|\n",
            "|                         Péssimo|    4|\n",
            "+--------------------------------+-----+\n",
            "\n"
          ]
        }
      ]
    },
    {
      "cell_type": "markdown",
      "source": [
        "\n",
        "\n",
        "#Crie um gráfico de pizza e um de barra para ilustrar o resultado acima"
      ],
      "metadata": {
        "id": "W4mYfieXww6Q"
      }
    },
    {
      "cell_type": "markdown",
      "source": [
        "* Converter o dataframe de pysaprk para pandas"
      ],
      "metadata": {
        "id": "YV6PQduRx884"
      }
    },
    {
      "cell_type": "code",
      "source": [
        "PDConsolidado_total = DFConsolidado_total.toPandas()"
      ],
      "metadata": {
        "id": "4kZUIyBZyDil"
      },
      "execution_count": 31,
      "outputs": []
    },
    {
      "cell_type": "code",
      "source": [
        "display(PDConsolidado_total.groupby(['review_comment_message_criticado']).count().plot(kind='pie',y='order_id'))\n",
        "display(PDConsolidado_total.groupby(['review_comment_message_criticado']).count().plot(kind='bar',y='order_id'))"
      ],
      "metadata": {
        "colab": {
          "base_uri": "https://localhost:8080/",
          "height": 604
        },
        "id": "1A5bA-hwGKzV",
        "outputId": "57b69a3d-a4f5-463b-90c7-5dbe45b4fbd8"
      },
      "execution_count": 32,
      "outputs": [
        {
          "output_type": "display_data",
          "data": {
            "text/plain": [
              "<matplotlib.axes._subplots.AxesSubplot at 0x7f82e73d7750>"
            ]
          },
          "metadata": {}
        },
        {
          "output_type": "display_data",
          "data": {
            "text/plain": [
              "<matplotlib.axes._subplots.AxesSubplot at 0x7f82e64be590>"
            ]
          },
          "metadata": {}
        },
        {
          "output_type": "display_data",
          "data": {
            "text/plain": [
              "<Figure size 432x288 with 1 Axes>"
            ],
            "image/png": "[encoded data removed]"
          },
          "metadata": {}
        },
        {
          "output_type": "display_data",
          "data": {
            "text/plain": [
              "<Figure size 432x288 with 1 Axes>"
            ],
            "image/png": "[encoded data removed]"
          },
          "metadata": {
            "needs_background": "light"
          }
        }
      ]
    },
    {
      "cell_type": "markdown",
      "source": [
        "#Faça uma soma da coluna “price” agrupando por product_category_name do top 6 (ordene do maior para o menor)"
      ],
      "metadata": {
        "id": "fwxTZghYxGmA"
      }
    },
    {
      "cell_type": "markdown",
      "source": [
        "* Converter o tipo de coluna de \"price\" de string para double"
      ],
      "metadata": {
        "id": "ogR9kJ4j43g7"
      }
    },
    {
      "cell_type": "code",
      "source": [
        "DFConsolidado_total = DFConsolidado_total.withColumn(\"price\",DFConsolidado_total.price.cast('double'))"
      ],
      "metadata": {
        "id": "ezBwHaXJ5KxM"
      },
      "execution_count": 33,
      "outputs": []
    },
    {
      "cell_type": "code",
      "source": [
        "DFConsolidado_total.groupBy('product_category_name').sum(\"price\").sort(desc(sum(\"price\"))).show(6)"
      ],
      "metadata": {
        "colab": {
          "base_uri": "https://localhost:8080/"
        },
        "id": "h9eCkWZ4rb_v",
        "outputId": "c2afe8e4-7db1-4ae9-c25b-f17b80ce0908"
      },
      "execution_count": 35,
      "outputs": [
        {
          "output_type": "stream",
          "name": "stdout",
          "text": [
            "+---------------------+------------------+\n",
            "|product_category_name|        sum(price)|\n",
            "+---------------------+------------------+\n",
            "|         beleza_saude|1252404.8500000183|\n",
            "|   relogios_presentes|1197565.4800000114|\n",
            "|      cama_mesa_banho|1040140.3100000382|\n",
            "|        esporte_lazer| 986848.9200000222|\n",
            "| informatica_acess...| 914579.3900000136|\n",
            "|     moveis_decoracao| 729864.4200000071|\n",
            "+---------------------+------------------+\n",
            "only showing top 6 rows\n",
            "\n"
          ]
        }
      ]
    },
    {
      "cell_type": "markdown",
      "source": [
        "#  Crie um gráfico de barra para ilustrar o resultado acima"
      ],
      "metadata": {
        "id": "YlQILXby6Tqo"
      }
    },
    {
      "cell_type": "markdown",
      "source": [
        "* Criar um dataframe pandas de preço"
      ],
      "metadata": {
        "id": "mRN0GaPA6aQz"
      }
    },
    {
      "cell_type": "code",
      "source": [
        "PDConsolidado_price = DFConsolidado_total.groupBy('product_category_name').sum(\"price\").sort(desc(sum(\"price\"))).toPandas()\n",
        "PDConsolidado_price = PDConsolidado_price.head(6)\n",
        "PDConsolidado_price.head()"
      ],
      "metadata": {
        "colab": {
          "base_uri": "https://localhost:8080/",
          "height": 206
        },
        "id": "gmjDpXSh6VZq",
        "outputId": "493fd236-79df-4ffc-9aa7-2bcb648aedf6"
      },
      "execution_count": 36,
      "outputs": [
        {
          "output_type": "execute_result",
          "data": {
            "text/plain": [
              "    product_category_name  sum(price)\n",
              "0            beleza_saude  1252404.85\n",
              "1      relogios_presentes  1197565.48\n",
              "2         cama_mesa_banho  1040140.31\n",
              "3           esporte_lazer   986848.92\n",
              "4  informatica_acessorios   914579.39"
            ],
            "text/html": [
              "\n",
              "  <div id=\"df-0d094469-7c6c-4aca-a98d-22042a98517b\">\n",
              "    <div class=\"colab-df-container\">\n",
              "      <div>\n",
              "<style scoped>\n",
              "    .dataframe tbody tr th:only-of-type {\n",
              "        vertical-align: middle;\n",
              "    }\n",
              "\n",
              "    .dataframe tbody tr th {\n",
              "        vertical-align: top;\n",
              "    }\n",
              "\n",
              "    .dataframe thead th {\n",
              "        text-align: right;\n",
              "    }\n",
              "</style>\n",
              "<table border=\"1\" class=\"dataframe\">\n",
              "  <thead>\n",
              "    <tr style=\"text-align: right;\">\n",
              "      <th></th>\n",
              "      <th>product_category_name</th>\n",
              "      <th>sum(price)</th>\n",
              "    </tr>\n",
              "  </thead>\n",
              "  <tbody>\n",
              "    <tr>\n",
              "      <th>0</th>\n",
              "      <td>beleza_saude</td>\n",
              "      <td>1252404.85</td>\n",
              "    </tr>\n",
              "    <tr>\n",
              "      <th>1</th>\n",
              "      <td>relogios_presentes</td>\n",
              "      <td>1197565.48</td>\n",
              "    </tr>\n",
              "    <tr>\n",
              "      <th>2</th>\n",
              "      <td>cama_mesa_banho</td>\n",
              "      <td>1040140.31</td>\n",
              "    </tr>\n",
              "    <tr>\n",
              "      <th>3</th>\n",
              "      <td>esporte_lazer</td>\n",
              "      <td>986848.92</td>\n",
              "    </tr>\n",
              "    <tr>\n",
              "      <th>4</th>\n",
              "      <td>informatica_acessorios</td>\n",
              "      <td>914579.39</td>\n",
              "    </tr>\n",
              "  </tbody>\n",
              "</table>\n",
              "</div>\n",
              "      <button class=\"colab-df-convert\" onclick=\"convertToInteractive('df-0d094469-7c6c-4aca-a98d-22042a98517b')\"\n",
              "              title=\"Convert this dataframe to an interactive table.\"\n",
              "              style=\"display:none;\">\n",
              "        \n",
              "  <svg xmlns=\"http://www.w3.org/2000/svg\" height=\"24px\"viewBox=\"0 0 24 24\"\n",
              "       width=\"24px\">\n",
              "    <path d=\"M0 0h24v24H0V0z\" fill=\"none\"/>\n",
              "    <path d=\"M18.56 5.44l.94 2.06.94-2.06 2.06-.94-2.06-.94-.94-2.06-.94 2.06-2.06.94zm-11 1L8.5 8.5l.94-2.06 2.06-.94-2.06-.94L8.5 2.5l-.94 2.06-2.06.94zm10 10l.94 2.06.94-2.06 2.06-.94-2.06-.94-.94-2.06-.94 2.06-2.06.94z\"/><path d=\"M17.41 7.96l-1.37-1.37c-.4-.4-.92-.59-1.43-.59-.52 0-1.04.2-1.43.59L10.3 9.45l-7.72 7.72c-.78.78-.78 2.05 0 2.83L4 21.41c.39.39.9.59 1.41.59.51 0 1.02-.2 1.41-.59l7.78-7.78 2.81-2.81c.8-.78.8-2.07 0-2.86zM5.41 20L4 18.59l7.72-7.72 1.47 1.35L5.41 20z\"/>\n",
              "  </svg>\n",
              "      </button>\n",
              "      \n",
              "  <style>\n",
              "    .colab-df-container {\n",
              "      display:flex;\n",
              "      flex-wrap:wrap;\n",
              "      gap: 12px;\n",
              "    }\n",
              "\n",
              "    .colab-df-convert {\n",
              "      background-color: #E8F0FE;\n",
              "      border: none;\n",
              "      border-radius: 50%;\n",
              "      cursor: pointer;\n",
              "      display: none;\n",
              "      fill: #1967D2;\n",
              "      height: 32px;\n",
              "      padding: 0 0 0 0;\n",
              "      width: 32px;\n",
              "    }\n",
              "\n",
              "    .colab-df-convert:hover {\n",
              "      background-color: #E2EBFA;\n",
              "      box-shadow: 0px 1px 2px rgba(60, 64, 67, 0.3), 0px 1px 3px 1px rgba(60, 64, 67, 0.15);\n",
              "      fill: #174EA6;\n",
              "    }\n",
              "\n",
              "    [theme=dark] .colab-df-convert {\n",
              "      background-color: #3B4455;\n",
              "      fill: #D2E3FC;\n",
              "    }\n",
              "\n",
              "    [theme=dark] .colab-df-convert:hover {\n",
              "      background-color: #434B5C;\n",
              "      box-shadow: 0px 1px 3px 1px rgba(0, 0, 0, 0.15);\n",
              "      filter: drop-shadow(0px 1px 2px rgba(0, 0, 0, 0.3));\n",
              "      fill: #FFFFFF;\n",
              "    }\n",
              "  </style>\n",
              "\n",
              "      <script>\n",
              "        const buttonEl =\n",
              "          document.querySelector('#df-0d094469-7c6c-4aca-a98d-22042a98517b button.colab-df-convert');\n",
              "        buttonEl.style.display =\n",
              "          google.colab.kernel.accessAllowed ? 'block' : 'none';\n",
              "\n",
              "        async function convertToInteractive(key) {\n",
              "          const element = document.querySelector('#df-0d094469-7c6c-4aca-a98d-22042a98517b');\n",
              "          const dataTable =\n",
              "            await google.colab.kernel.invokeFunction('convertToInteractive',\n",
              "                                                     [key], {});\n",
              "          if (!dataTable) return;\n",
              "\n",
              "          const docLinkHtml = 'Like what you see? Visit the ' +\n",
              "            '<a target=\"_blank\" href=https://colab.research.google.com/notebooks/data_table.ipynb>data table notebook</a>'\n",
              "            + ' to learn more about interactive tables.';\n",
              "          element.innerHTML = '';\n",
              "          dataTable['output_type'] = 'display_data';\n",
              "          await google.colab.output.renderOutput(dataTable, element);\n",
              "          const docLink = document.createElement('div');\n",
              "          docLink.innerHTML = docLinkHtml;\n",
              "          element.appendChild(docLink);\n",
              "        }\n",
              "      </script>\n",
              "    </div>\n",
              "  </div>\n",
              "  "
            ]
          },
          "metadata": {},
          "execution_count": 36
        }
      ]
    },
    {
      "cell_type": "code",
      "source": [
        "PDConsolidado_price.plot.bar(x = 'product_category_name', y = 'sum(price)')"
      ],
      "metadata": {
        "colab": {
          "base_uri": "https://localhost:8080/",
          "height": 413
        },
        "id": "i2UNFyl06g9U",
        "outputId": "e46b9ba4-0fa6-4e95-9422-15cbc05dccf7"
      },
      "execution_count": 37,
      "outputs": [
        {
          "output_type": "execute_result",
          "data": {
            "text/plain": [
              "<matplotlib.axes._subplots.AxesSubplot at 0x7f82e549fc90>"
            ]
          },
          "metadata": {},
          "execution_count": 37
        },
        {
          "output_type": "display_data",
          "data": {
            "text/plain": [
              "<Figure size 432x288 with 1 Axes>"
            ],
            "image/png": "[encoded data removed]"
          },
          "metadata": {
            "needs_background": "light"
          }
        }
      ]
    }
  ]
}